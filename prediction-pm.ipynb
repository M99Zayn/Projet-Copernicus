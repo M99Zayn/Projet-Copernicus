{
 "cells": [
  {
   "cell_type": "code",
   "execution_count": 43,
   "id": "86501b81",
   "metadata": {},
   "outputs": [],
   "source": [
    "import pandas as pd\n",
    "from statsmodels.tsa.arima.model import ARIMA\n",
    "from sklearn.metrics import mean_absolute_error"
   ]
  },
  {
   "cell_type": "code",
   "execution_count": 49,
   "id": "5bbc9f4f",
   "metadata": {},
   "outputs": [
    {
     "name": "stdout",
     "output_type": "stream",
     "text": [
      "<class 'pandas.core.frame.DataFrame'>\n",
      "RangeIndex: 841 entries, 0 to 840\n",
      "Data columns (total 5 columns):\n",
      " #   Column            Non-Null Count  Dtype  \n",
      "---  ------            --------------  -----  \n",
      " 0   Date              841 non-null    object \n",
      " 1   AirParif_pm10     841 non-null    float64\n",
      " 2   AirParif_pm2p5    841 non-null    float64\n",
      " 3   Copernicus_pm10   841 non-null    float64\n",
      " 4   Copernicus_pm2p5  841 non-null    float64\n",
      "dtypes: float64(4), object(1)\n",
      "memory usage: 33.0+ KB\n"
     ]
    }
   ],
   "source": [
    "# Read CSV file\n",
    "df = pd.read_csv('final_means.csv')\n",
    "df.info()"
   ]
  },
  {
   "cell_type": "code",
   "execution_count": 45,
   "id": "8c6059e2",
   "metadata": {},
   "outputs": [
    {
     "data": {
      "text/html": [
       "<div>\n",
       "<style scoped>\n",
       "    .dataframe tbody tr th:only-of-type {\n",
       "        vertical-align: middle;\n",
       "    }\n",
       "\n",
       "    .dataframe tbody tr th {\n",
       "        vertical-align: top;\n",
       "    }\n",
       "\n",
       "    .dataframe thead th {\n",
       "        text-align: right;\n",
       "    }\n",
       "</style>\n",
       "<table border=\"1\" class=\"dataframe\">\n",
       "  <thead>\n",
       "    <tr style=\"text-align: right;\">\n",
       "      <th></th>\n",
       "      <th>AirParif_pm10</th>\n",
       "      <th>AirParif_pm2p5</th>\n",
       "      <th>Copernicus_pm10</th>\n",
       "      <th>Copernicus_pm2p5</th>\n",
       "    </tr>\n",
       "    <tr>\n",
       "      <th>Date</th>\n",
       "      <th></th>\n",
       "      <th></th>\n",
       "      <th></th>\n",
       "      <th></th>\n",
       "    </tr>\n",
       "  </thead>\n",
       "  <tbody>\n",
       "    <tr>\n",
       "      <th>2020-01-09</th>\n",
       "      <td>23.800000</td>\n",
       "      <td>7.963636</td>\n",
       "      <td>12.476818</td>\n",
       "      <td>4.857273</td>\n",
       "    </tr>\n",
       "    <tr>\n",
       "      <th>2020-01-10</th>\n",
       "      <td>12.250000</td>\n",
       "      <td>6.895833</td>\n",
       "      <td>18.830833</td>\n",
       "      <td>15.625000</td>\n",
       "    </tr>\n",
       "    <tr>\n",
       "      <th>2020-01-11</th>\n",
       "      <td>4.912500</td>\n",
       "      <td>2.254167</td>\n",
       "      <td>29.809583</td>\n",
       "      <td>23.437500</td>\n",
       "    </tr>\n",
       "    <tr>\n",
       "      <th>2020-01-12</th>\n",
       "      <td>15.833333</td>\n",
       "      <td>8.762500</td>\n",
       "      <td>17.227083</td>\n",
       "      <td>7.631250</td>\n",
       "    </tr>\n",
       "    <tr>\n",
       "      <th>2020-02-09</th>\n",
       "      <td>28.040000</td>\n",
       "      <td>11.193333</td>\n",
       "      <td>11.491333</td>\n",
       "      <td>5.676000</td>\n",
       "    </tr>\n",
       "    <tr>\n",
       "      <th>...</th>\n",
       "      <td>...</td>\n",
       "      <td>...</td>\n",
       "      <td>...</td>\n",
       "      <td>...</td>\n",
       "    </tr>\n",
       "    <tr>\n",
       "      <th>2022-12-27</th>\n",
       "      <td>15.958333</td>\n",
       "      <td>10.045833</td>\n",
       "      <td>13.405417</td>\n",
       "      <td>8.491667</td>\n",
       "    </tr>\n",
       "    <tr>\n",
       "      <th>2022-12-28</th>\n",
       "      <td>9.500000</td>\n",
       "      <td>6.662500</td>\n",
       "      <td>8.426667</td>\n",
       "      <td>4.426667</td>\n",
       "    </tr>\n",
       "    <tr>\n",
       "      <th>2022-12-29</th>\n",
       "      <td>13.325000</td>\n",
       "      <td>7.262500</td>\n",
       "      <td>13.091250</td>\n",
       "      <td>5.922500</td>\n",
       "    </tr>\n",
       "    <tr>\n",
       "      <th>2022-12-30</th>\n",
       "      <td>8.575000</td>\n",
       "      <td>5.770833</td>\n",
       "      <td>8.303750</td>\n",
       "      <td>4.500417</td>\n",
       "    </tr>\n",
       "    <tr>\n",
       "      <th>2022-12-31</th>\n",
       "      <td>14.337500</td>\n",
       "      <td>7.795833</td>\n",
       "      <td>11.633333</td>\n",
       "      <td>6.070833</td>\n",
       "    </tr>\n",
       "  </tbody>\n",
       "</table>\n",
       "<p>841 rows × 4 columns</p>\n",
       "</div>"
      ],
      "text/plain": [
       "            AirParif_pm10  AirParif_pm2p5  Copernicus_pm10  Copernicus_pm2p5\n",
       "Date                                                                        \n",
       "2020-01-09      23.800000        7.963636        12.476818          4.857273\n",
       "2020-01-10      12.250000        6.895833        18.830833         15.625000\n",
       "2020-01-11       4.912500        2.254167        29.809583         23.437500\n",
       "2020-01-12      15.833333        8.762500        17.227083          7.631250\n",
       "2020-02-09      28.040000       11.193333        11.491333          5.676000\n",
       "...                   ...             ...              ...               ...\n",
       "2022-12-27      15.958333       10.045833        13.405417          8.491667\n",
       "2022-12-28       9.500000        6.662500         8.426667          4.426667\n",
       "2022-12-29      13.325000        7.262500        13.091250          5.922500\n",
       "2022-12-30       8.575000        5.770833         8.303750          4.500417\n",
       "2022-12-31      14.337500        7.795833        11.633333          6.070833\n",
       "\n",
       "[841 rows x 4 columns]"
      ]
     },
     "execution_count": 45,
     "metadata": {},
     "output_type": "execute_result"
    }
   ],
   "source": [
    "# Convert the 'date' column to datetime\n",
    "df['Date'] = pd.to_datetime(df['Date'])\n",
    "\n",
    "# Set 'date' column as the index\n",
    "df = df.set_index('Date')\n",
    "\n",
    "# Resample the time series data with a daily frequency\n",
    "df = df.asfreq('D')\n",
    "\n",
    "# Handle missing values\n",
    "df = df.dropna()\n",
    "df"
   ]
  },
  {
   "cell_type": "code",
   "execution_count": 46,
   "id": "c900e8b6",
   "metadata": {},
   "outputs": [
    {
     "name": "stderr",
     "output_type": "stream",
     "text": [
      "D:\\anaconda3\\lib\\site-packages\\statsmodels\\tsa\\base\\tsa_model.py:581: ValueWarning: A date index has been provided, but it has no associated frequency information and so will be ignored when e.g. forecasting.\n",
      "  warnings.warn('A date index has been provided, but it has no'\n",
      "D:\\anaconda3\\lib\\site-packages\\statsmodels\\tsa\\base\\tsa_model.py:581: ValueWarning: A date index has been provided, but it has no associated frequency information and so will be ignored when e.g. forecasting.\n",
      "  warnings.warn('A date index has been provided, but it has no'\n",
      "D:\\anaconda3\\lib\\site-packages\\statsmodels\\tsa\\base\\tsa_model.py:581: ValueWarning: A date index has been provided, but it has no associated frequency information and so will be ignored when e.g. forecasting.\n",
      "  warnings.warn('A date index has been provided, but it has no'\n",
      "D:\\anaconda3\\lib\\site-packages\\statsmodels\\tsa\\base\\tsa_model.py:581: ValueWarning: A date index has been provided, but it has no associated frequency information and so will be ignored when e.g. forecasting.\n",
      "  warnings.warn('A date index has been provided, but it has no'\n",
      "D:\\anaconda3\\lib\\site-packages\\statsmodels\\tsa\\base\\tsa_model.py:581: ValueWarning: A date index has been provided, but it has no associated frequency information and so will be ignored when e.g. forecasting.\n",
      "  warnings.warn('A date index has been provided, but it has no'\n",
      "D:\\anaconda3\\lib\\site-packages\\statsmodels\\tsa\\base\\tsa_model.py:581: ValueWarning: A date index has been provided, but it has no associated frequency information and so will be ignored when e.g. forecasting.\n",
      "  warnings.warn('A date index has been provided, but it has no'\n",
      "D:\\anaconda3\\lib\\site-packages\\statsmodels\\tsa\\base\\tsa_model.py:581: ValueWarning: A date index has been provided, but it has no associated frequency information and so will be ignored when e.g. forecasting.\n",
      "  warnings.warn('A date index has been provided, but it has no'\n",
      "D:\\anaconda3\\lib\\site-packages\\statsmodels\\tsa\\base\\tsa_model.py:581: ValueWarning: A date index has been provided, but it has no associated frequency information and so will be ignored when e.g. forecasting.\n",
      "  warnings.warn('A date index has been provided, but it has no'\n",
      "D:\\anaconda3\\lib\\site-packages\\statsmodels\\tsa\\base\\tsa_model.py:581: ValueWarning: A date index has been provided, but it has no associated frequency information and so will be ignored when e.g. forecasting.\n",
      "  warnings.warn('A date index has been provided, but it has no'\n",
      "D:\\anaconda3\\lib\\site-packages\\statsmodels\\tsa\\base\\tsa_model.py:581: ValueWarning: A date index has been provided, but it has no associated frequency information and so will be ignored when e.g. forecasting.\n",
      "  warnings.warn('A date index has been provided, but it has no'\n",
      "D:\\anaconda3\\lib\\site-packages\\statsmodels\\tsa\\base\\tsa_model.py:581: ValueWarning: A date index has been provided, but it has no associated frequency information and so will be ignored when e.g. forecasting.\n",
      "  warnings.warn('A date index has been provided, but it has no'\n",
      "D:\\anaconda3\\lib\\site-packages\\statsmodels\\tsa\\base\\tsa_model.py:581: ValueWarning: A date index has been provided, but it has no associated frequency information and so will be ignored when e.g. forecasting.\n",
      "  warnings.warn('A date index has been provided, but it has no'\n"
     ]
    },
    {
     "name": "stdout",
     "output_type": "stream",
     "text": [
      "Best ARIMA Model Order: (1, 1, 2)\n"
     ]
    }
   ],
   "source": [
    "pm10_series = df['Copernicus_pm10']\n",
    "orders_to_try = [(1, 1, 1), (2, 1, 1), (1, 2, 1), (1, 1, 2)]\n",
    "best_mse = float('inf')\n",
    "best_model = None\n",
    "\n",
    "for order in orders_to_try:\n",
    "    model = ARIMA(pm10_series, order=order)\n",
    "    results = model.fit()\n",
    "    predictions = results.predict()\n",
    "    mse = ((pm10_series[1:] - predictions)**2).mean()\n",
    "\n",
    "    if mse < best_mse:\n",
    "        best_mse = mse\n",
    "        best_model = model\n",
    "\n",
    "# Print the best model's order\n",
    "print(\"Best ARIMA Model Order:\", best_model.order)"
   ]
  },
  {
   "cell_type": "code",
   "execution_count": 47,
   "id": "81d50d8b",
   "metadata": {},
   "outputs": [
    {
     "name": "stderr",
     "output_type": "stream",
     "text": [
      "D:\\anaconda3\\lib\\site-packages\\statsmodels\\tsa\\base\\tsa_model.py:581: ValueWarning: A date index has been provided, but it has no associated frequency information and so will be ignored when e.g. forecasting.\n",
      "  warnings.warn('A date index has been provided, but it has no'\n",
      "D:\\anaconda3\\lib\\site-packages\\statsmodels\\tsa\\base\\tsa_model.py:581: ValueWarning: A date index has been provided, but it has no associated frequency information and so will be ignored when e.g. forecasting.\n",
      "  warnings.warn('A date index has been provided, but it has no'\n",
      "D:\\anaconda3\\lib\\site-packages\\statsmodels\\tsa\\base\\tsa_model.py:581: ValueWarning: A date index has been provided, but it has no associated frequency information and so will be ignored when e.g. forecasting.\n",
      "  warnings.warn('A date index has been provided, but it has no'\n"
     ]
    },
    {
     "data": {
      "text/plain": [
       "0.7106504377584864"
      ]
     },
     "execution_count": 47,
     "metadata": {},
     "output_type": "execute_result"
    }
   ],
   "source": [
    "model = ARIMA(pm10_series, order=(1, 1, 2))\n",
    "results = model.fit()\n",
    "\n",
    "predictions = results.predict()\n",
    "mae = mean_absolute_error(pm10_series, predictions)\n",
    "accuracy = 1 - mae/pm10_series.mean()\n",
    "accuracy"
   ]
  },
  {
   "cell_type": "code",
   "execution_count": 48,
   "id": "aafa1066",
   "metadata": {},
   "outputs": [
    {
     "data": {
      "image/png": "[encoded data removed]",
      "text/plain": [
       "<Figure size 1152x432 with 1 Axes>"
      ]
     },
     "metadata": {
      "needs_background": "light"
     },
     "output_type": "display_data"
    }
   ],
   "source": [
    "import matplotlib.pyplot as plt\n",
    "\n",
    "# Extract data for the last 3 months\n",
    "last = pm10_series.loc['2022-12-25':'2022-12-29']\n",
    "\n",
    "plt.figure(figsize=(16, 6))  \n",
    "\n",
    "# Visualize the actual vs predicted values\n",
    "plt.plot(last.index, last, label='Actual')\n",
    "\n",
    "# Use the same index for the predicted values\n",
    "plt.plot(last.index[-1], predictions.values[0], marker='o', color='red', label='Predicted')\n",
    "\n",
    "plt.title('Actual vs Predicted PM10')\n",
    "plt.xlabel('Date')\n",
    "plt.ylabel('PM10 Values')\n",
    "plt.legend()\n",
    "plt.show()\n"
   ]
  },
  {
   "cell_type": "code",
   "execution_count": null,
   "id": "16b460a9",
   "metadata": {},
   "outputs": [],
   "source": []
  }
 ],
 "metadata": {
  "kernelspec": {
   "display_name": "Python 3",
   "language": "python",
   "name": "python3"
  },
  "language_info": {
   "codemirror_mode": {
    "name": "ipython",
    "version": 3
   },
   "file_extension": ".py",
   "mimetype": "text/x-python",
   "name": "python",
   "nbconvert_exporter": "python",
   "pygments_lexer": "ipython3",
   "version": "3.8.8"
  }
 },
 "nbformat": 4,
 "nbformat_minor": 5
}
